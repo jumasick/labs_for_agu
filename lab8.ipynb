{
 "cells": [
  {
   "cell_type": "markdown",
   "metadata": {},
   "source": [
    "# Первые графики и выводы\n",
    "\n",
    "Работа аналитика — не только сами расчёты, но и поиск необычных явлений, артефактов и ошибок в данных. Помогают построение и анализ графиков: визуальное представление позволяет буквально заглянуть в данные, обнаружить проблемы и сделать выводы. Часто неожиданные. Такие непредвиденные открытия могут принести едва ли не больше пользы, чем решение первоначальной задачи.\n",
    "Ваши цели:\n",
    "•\tнаучиться работать с инструментами для построения графиков: **hist(), boxplot(), plot();**\n",
    "\n",
    "•\tнаучиться делать срезы данных;\n",
    "\n",
    "•\tизучить метод **join()** для объединения таблиц и повторить метод **merge()**;\n",
    "\n",
    "•\tразобраться, как определять и интерпретировать взаимосвязи различных данных;\n",
    "\n",
    "•\tнаучиться автоматизировать процесс построения набора графиков.\n",
    "\n",
    "## Знакомство с задачей\n",
    "\n",
    "Как исследовать поведение водителей на заправках? Обратиться к статистике: узнать, на какую именно заправку заезжал водитель и сколько времени там провёл.\n",
    "\n",
    "Ваши коллеги из  собрали необходимые данные и прислали их в таком виде:\n",
    "\n",
    "•\tЗашифрованное наименование сети АЗС (столбец name): вместо брендов — названия растений;\n",
    "\n",
    "•\tУникальный идентификатор конкретной АЗС (столбец id) — в сети их много;\n",
    "\n",
    "•\tВремя заезда на АЗС (столбец date_time) в формате ISO: 20190405T165358 означает, что водитель прибыл на заправку 5 апреля 2019 года в 16 часов 53 минуты 58 секунд по UTC.\n",
    "\n",
    "•\tПроведённое на АЗС время (столбец time_spent) в секундах.\n",
    "\n",
    "Выведем первые строки таблицы методом head():"
   ]
  },
  {
   "cell_type": "code",
   "execution_count": 45,
   "metadata": {},
   "outputs": [
    {
     "name": "stdout",
     "output_type": "stream",
     "text": [
      "             date_time\\tid\\ttime_spent\\tname\n",
      "0   20180406T165358\\t76144fb2\\t98.0\\tВасилек\n",
      "1   20180404T173913\\t76144fb2\\t15.0\\tВасилек\n",
      "2  20180403T172824\\t76144fb2\\t220.0\\tВасилек\n",
      "3   20180407T070441\\t76144fb2\\t19.0\\tВасилек\n",
      "4   20180404T132049\\t76144fb2\\t14.0\\tВасилек\n"
     ]
    }
   ],
   "source": [
    "import pandas as pd\n",
    "data = pd.read_csv('visits.csv')\n",
    "print(data.head())"
   ]
  },
  {
   "cell_type": "markdown",
   "metadata": {},
   "source": [
    "Вот и первая проблема. \n",
    "\n",
    "Данные склеились в одну строку вместо того, чтобы разбиться по колонкам. Это произошло из-за разделителей в формате **csv**.\n",
    "\n",
    "Напомним, что csv — это Comma-Separated Values, или значения, разделённые запятыми. Действительно, на прошлых занятиях вы работали с таблицами, где строку на колонки делили запятые. Однако вместо них могут быть точки с запятой, знаки табуляции или другие символы. Могут вносить путаницу и десятичные дроби, записанные с запятой.\n",
    "\n",
    "Какими символами разделять колонки и дроби, указывают в параметрах функции **read_csv()**. Разделитель колонок задают параметром **sep** (от англ. separate, «отделять, разделять»), а дробей — параметром **decimal** (англ. «десятичная дробь»):\n",
    "\n",
    "**file = pd.read_csv('file.csv', sep=';', decimal=',')**\n",
    "\n",
    "Прочитайте файл **visits.csv**, указав как разделитель знак табуляции: '\\t', и сохраните результат в датафрейме data. Выведите его первые пять строк.\n"
   ]
  },
  {
   "cell_type": "code",
   "execution_count": 47,
   "metadata": {},
   "outputs": [],
   "source": [
    "data = pd.read_csv('visits.csv', sep='\\t')"
   ]
  },
  {
   "cell_type": "code",
   "execution_count": 49,
   "metadata": {},
   "outputs": [
    {
     "data": {
      "text/html": [
       "<div>\n",
       "<style scoped>\n",
       "    .dataframe tbody tr th:only-of-type {\n",
       "        vertical-align: middle;\n",
       "    }\n",
       "\n",
       "    .dataframe tbody tr th {\n",
       "        vertical-align: top;\n",
       "    }\n",
       "\n",
       "    .dataframe thead th {\n",
       "        text-align: right;\n",
       "    }\n",
       "</style>\n",
       "<table border=\"1\" class=\"dataframe\">\n",
       "  <thead>\n",
       "    <tr style=\"text-align: right;\">\n",
       "      <th></th>\n",
       "      <th>date_time</th>\n",
       "      <th>id</th>\n",
       "      <th>time_spent</th>\n",
       "      <th>name</th>\n",
       "    </tr>\n",
       "  </thead>\n",
       "  <tbody>\n",
       "    <tr>\n",
       "      <th>0</th>\n",
       "      <td>20180406T165358</td>\n",
       "      <td>76144fb2</td>\n",
       "      <td>98.0</td>\n",
       "      <td>Василек</td>\n",
       "    </tr>\n",
       "    <tr>\n",
       "      <th>1</th>\n",
       "      <td>20180404T173913</td>\n",
       "      <td>76144fb2</td>\n",
       "      <td>15.0</td>\n",
       "      <td>Василек</td>\n",
       "    </tr>\n",
       "    <tr>\n",
       "      <th>2</th>\n",
       "      <td>20180403T172824</td>\n",
       "      <td>76144fb2</td>\n",
       "      <td>220.0</td>\n",
       "      <td>Василек</td>\n",
       "    </tr>\n",
       "    <tr>\n",
       "      <th>3</th>\n",
       "      <td>20180407T070441</td>\n",
       "      <td>76144fb2</td>\n",
       "      <td>19.0</td>\n",
       "      <td>Василек</td>\n",
       "    </tr>\n",
       "    <tr>\n",
       "      <th>4</th>\n",
       "      <td>20180404T132049</td>\n",
       "      <td>76144fb2</td>\n",
       "      <td>14.0</td>\n",
       "      <td>Василек</td>\n",
       "    </tr>\n",
       "  </tbody>\n",
       "</table>\n",
       "</div>"
      ],
      "text/plain": [
       "         date_time        id  time_spent     name\n",
       "0  20180406T165358  76144fb2        98.0  Василек\n",
       "1  20180404T173913  76144fb2        15.0  Василек\n",
       "2  20180403T172824  76144fb2       220.0  Василек\n",
       "3  20180407T070441  76144fb2        19.0  Василек\n",
       "4  20180404T132049  76144fb2        14.0  Василек"
      ]
     },
     "execution_count": 49,
     "metadata": {},
     "output_type": "execute_result"
    }
   ],
   "source": [
    "data.head(5)"
   ]
  },
  {
   "cell_type": "markdown",
   "metadata": {},
   "source": [
    "## Сводные таблицы для расчёта среднего\n",
    "\n",
    "Нужно узнать, сколько времени в среднем водители тратят на заправку в каждой сети АЗС. В каждой строке датафрейма есть название сети и время, проведённое на АЗС. Занимаясь предобработкой данных, вы применяли pivot_table() — метод для построения сводных таблиц.\n",
    "\n",
    "Напомним его аргументы:\n",
    "\n",
    "•\t**index** — столбец, значения которого становятся названиями строк (индексом);\n",
    "\n",
    "•\t**columns** — столбец, значения которого становятся названиями столбцов;\n",
    "\n",
    "•\t**values** — значения, по которым вы хотите увидеть сводную таблицу;\n",
    "\n",
    "•\t**aggfunc** — функция, применяемая к значениям.\n",
    "\n",
    "Прежде значением **aggfunc** вы указывали sum, то есть складывали элементы столбца. Если параметр **aggfunc** не указывать, то по умолчанию метод **pivot_table()** рассчитает среднее арифметическое значений, указанных в параметре **values**.\n",
    "\n",
    "Посчитайте среднее время заправки в секундах ('**time_spent**') для каждой из сетей ('**name**'), применяя метод **pivot_table()**. Датафрейм сохраните в переменной **name_stat** и выведите на экран.\n"
   ]
  },
  {
   "cell_type": "code",
   "execution_count": 51,
   "metadata": {},
   "outputs": [
    {
     "data": {
      "text/html": [
       "<div>\n",
       "<style scoped>\n",
       "    .dataframe tbody tr th:only-of-type {\n",
       "        vertical-align: middle;\n",
       "    }\n",
       "\n",
       "    .dataframe tbody tr th {\n",
       "        vertical-align: top;\n",
       "    }\n",
       "\n",
       "    .dataframe thead th {\n",
       "        text-align: right;\n",
       "    }\n",
       "</style>\n",
       "<table border=\"1\" class=\"dataframe\">\n",
       "  <thead>\n",
       "    <tr style=\"text-align: right;\">\n",
       "      <th></th>\n",
       "      <th>time_spent</th>\n",
       "    </tr>\n",
       "    <tr>\n",
       "      <th>name</th>\n",
       "      <th></th>\n",
       "    </tr>\n",
       "  </thead>\n",
       "  <tbody>\n",
       "    <tr>\n",
       "      <th>Агератум</th>\n",
       "      <td>337.802721</td>\n",
       "    </tr>\n",
       "    <tr>\n",
       "      <th>Амарант</th>\n",
       "      <td>132.760012</td>\n",
       "    </tr>\n",
       "    <tr>\n",
       "      <th>Аммобиум</th>\n",
       "      <td>256.708042</td>\n",
       "    </tr>\n",
       "    <tr>\n",
       "      <th>Арктотис</th>\n",
       "      <td>73.879984</td>\n",
       "    </tr>\n",
       "    <tr>\n",
       "      <th>Астильба</th>\n",
       "      <td>376.143149</td>\n",
       "    </tr>\n",
       "    <tr>\n",
       "      <th>Бальзамин</th>\n",
       "      <td>134.508411</td>\n",
       "    </tr>\n",
       "    <tr>\n",
       "      <th>Бархатцы</th>\n",
       "      <td>145.300328</td>\n",
       "    </tr>\n",
       "    <tr>\n",
       "      <th>Бегония</th>\n",
       "      <td>163.200647</td>\n",
       "    </tr>\n",
       "    <tr>\n",
       "      <th>Белоцветник</th>\n",
       "      <td>100.818966</td>\n",
       "    </tr>\n",
       "    <tr>\n",
       "      <th>Василек</th>\n",
       "      <td>268.849897</td>\n",
       "    </tr>\n",
       "    <tr>\n",
       "      <th>Вербена</th>\n",
       "      <td>190.016594</td>\n",
       "    </tr>\n",
       "    <tr>\n",
       "      <th>Вероника</th>\n",
       "      <td>220.019402</td>\n",
       "    </tr>\n",
       "    <tr>\n",
       "      <th>Гацания</th>\n",
       "      <td>160.685185</td>\n",
       "    </tr>\n",
       "    <tr>\n",
       "      <th>Гвоздика</th>\n",
       "      <td>294.317308</td>\n",
       "    </tr>\n",
       "    <tr>\n",
       "      <th>Гейхера</th>\n",
       "      <td>167.445947</td>\n",
       "    </tr>\n",
       "    <tr>\n",
       "      <th>Гелихризум</th>\n",
       "      <td>290.138643</td>\n",
       "    </tr>\n",
       "    <tr>\n",
       "      <th>Георгина</th>\n",
       "      <td>166.615555</td>\n",
       "    </tr>\n",
       "    <tr>\n",
       "      <th>Годеция</th>\n",
       "      <td>113.958333</td>\n",
       "    </tr>\n",
       "    <tr>\n",
       "      <th>Диморфотека</th>\n",
       "      <td>406.161017</td>\n",
       "    </tr>\n",
       "    <tr>\n",
       "      <th>Доротеантус</th>\n",
       "      <td>263.568916</td>\n",
       "    </tr>\n",
       "    <tr>\n",
       "      <th>Ирис</th>\n",
       "      <td>179.931159</td>\n",
       "    </tr>\n",
       "    <tr>\n",
       "      <th>Календула</th>\n",
       "      <td>207.357323</td>\n",
       "    </tr>\n",
       "    <tr>\n",
       "      <th>Колокольчик</th>\n",
       "      <td>119.131564</td>\n",
       "    </tr>\n",
       "    <tr>\n",
       "      <th>Космос</th>\n",
       "      <td>164.867797</td>\n",
       "    </tr>\n",
       "    <tr>\n",
       "      <th>Крокус</th>\n",
       "      <td>349.031746</td>\n",
       "    </tr>\n",
       "    <tr>\n",
       "      <th>Лаватера</th>\n",
       "      <td>249.992844</td>\n",
       "    </tr>\n",
       "    <tr>\n",
       "      <th>Левкой</th>\n",
       "      <td>187.465606</td>\n",
       "    </tr>\n",
       "    <tr>\n",
       "      <th>Лобулярия</th>\n",
       "      <td>96.834350</td>\n",
       "    </tr>\n",
       "    <tr>\n",
       "      <th>Люпин</th>\n",
       "      <td>235.440937</td>\n",
       "    </tr>\n",
       "    <tr>\n",
       "      <th>Малопа</th>\n",
       "      <td>76.070543</td>\n",
       "    </tr>\n",
       "    <tr>\n",
       "      <th>Мальва</th>\n",
       "      <td>136.562234</td>\n",
       "    </tr>\n",
       "    <tr>\n",
       "      <th>Нарцисс</th>\n",
       "      <td>68.166758</td>\n",
       "    </tr>\n",
       "    <tr>\n",
       "      <th>Настурция</th>\n",
       "      <td>154.859694</td>\n",
       "    </tr>\n",
       "    <tr>\n",
       "      <th>Незабудка</th>\n",
       "      <td>120.362398</td>\n",
       "    </tr>\n",
       "    <tr>\n",
       "      <th>Немезия</th>\n",
       "      <td>186.535207</td>\n",
       "    </tr>\n",
       "    <tr>\n",
       "      <th>Обриета</th>\n",
       "      <td>141.777778</td>\n",
       "    </tr>\n",
       "    <tr>\n",
       "      <th>Петуния</th>\n",
       "      <td>265.780822</td>\n",
       "    </tr>\n",
       "    <tr>\n",
       "      <th>Пион</th>\n",
       "      <td>222.565523</td>\n",
       "    </tr>\n",
       "    <tr>\n",
       "      <th>Подснежник</th>\n",
       "      <td>180.286207</td>\n",
       "    </tr>\n",
       "    <tr>\n",
       "      <th>Роза</th>\n",
       "      <td>260.877217</td>\n",
       "    </tr>\n",
       "    <tr>\n",
       "      <th>Ромашка</th>\n",
       "      <td>231.389365</td>\n",
       "    </tr>\n",
       "    <tr>\n",
       "      <th>Тюльпан</th>\n",
       "      <td>187.832210</td>\n",
       "    </tr>\n",
       "    <tr>\n",
       "      <th>Фасоль</th>\n",
       "      <td>133.631957</td>\n",
       "    </tr>\n",
       "    <tr>\n",
       "      <th>Функия</th>\n",
       "      <td>302.494737</td>\n",
       "    </tr>\n",
       "    <tr>\n",
       "      <th>Хризантема</th>\n",
       "      <td>195.738710</td>\n",
       "    </tr>\n",
       "  </tbody>\n",
       "</table>\n",
       "</div>"
      ],
      "text/plain": [
       "             time_spent\n",
       "name                   \n",
       "Агератум     337.802721\n",
       "Амарант      132.760012\n",
       "Аммобиум     256.708042\n",
       "Арктотис      73.879984\n",
       "Астильба     376.143149\n",
       "Бальзамин    134.508411\n",
       "Бархатцы     145.300328\n",
       "Бегония      163.200647\n",
       "Белоцветник  100.818966\n",
       "Василек      268.849897\n",
       "Вербена      190.016594\n",
       "Вероника     220.019402\n",
       "Гацания      160.685185\n",
       "Гвоздика     294.317308\n",
       "Гейхера      167.445947\n",
       "Гелихризум   290.138643\n",
       "Георгина     166.615555\n",
       "Годеция      113.958333\n",
       "Диморфотека  406.161017\n",
       "Доротеантус  263.568916\n",
       "Ирис         179.931159\n",
       "Календула    207.357323\n",
       "Колокольчик  119.131564\n",
       "Космос       164.867797\n",
       "Крокус       349.031746\n",
       "Лаватера     249.992844\n",
       "Левкой       187.465606\n",
       "Лобулярия     96.834350\n",
       "Люпин        235.440937\n",
       "Малопа        76.070543\n",
       "Мальва       136.562234\n",
       "Нарцисс       68.166758\n",
       "Настурция    154.859694\n",
       "Незабудка    120.362398\n",
       "Немезия      186.535207\n",
       "Обриета      141.777778\n",
       "Петуния      265.780822\n",
       "Пион         222.565523\n",
       "Подснежник   180.286207\n",
       "Роза         260.877217\n",
       "Ромашка      231.389365\n",
       "Тюльпан      187.832210\n",
       "Фасоль       133.631957\n",
       "Функия       302.494737\n",
       "Хризантема   195.738710"
      ]
     },
     "execution_count": 51,
     "metadata": {},
     "output_type": "execute_result"
    }
   ],
   "source": [
    "name_stat = data.pivot_table(index='name', values='time_spent')\n",
    "name_stat\n"
   ]
  },
  {
   "cell_type": "markdown",
   "metadata": {},
   "source": [
    "Сети АЗС «Нарцисс», «Арктотис» и «Малопа» имеют среднее время заправки около 70 секунд. Неправдоподобно мало.\n",
    "\n",
    "В работе с данными почти всегда вас ждут сюрпризы\n",
    "\n",
    "•\tПочему-то выгрузили не те данные, или не всё, что есть;\n",
    "\n",
    "•\tОшибки в алгоритмах, считающих заезды: скажем, время заправки учли неверно.\n",
    "\n",
    "•\tНе тот формат; например, вместо секунд записали минуты.\n",
    "\n",
    "•\tУпущен какой-нибудь существенный факт. Так, водители могли заехать на нерабочую АЗС (а счётчик их учёл) и развернуться, не заправившись (счётчик зафиксировал очень короткое время).\n",
    "\n",
    "Словом, в данных может быть всё, что угодно. Именно вы как аналитик ручаетесь за их реалистичность. Попробуйте оценить, насколько они достоверны. Начните с базовых проверок. Например, несложно ответить на вопросы:\n",
    "\n",
    "•\tСколько всего заездов зафиксировано за время исследования?\n",
    "\n",
    "•\tСколько АЗС?\n",
    "\n",
    "•\tСколько заездов на одну АЗС в день?\n",
    "\n",
    "•\tКакие сети АЗС самые популярные?\n",
    "\n",
    "... и самостоятельно либо с помощью коллег оценить, похожи ли результаты ваших расчётов на правду.\n",
    "Базовая проверка может обнаружить проблему в данных. Или наоборот — свидетельствовать, что с ними всё в порядке. По крайней мере, пока.\n",
    "\n",
    "**Задача 1**. Сколько было заездов на АЗС? Сохраните число строк датафрейма в переменной **total_visits**. . Результат выведите на экран так:\n",
    "\n",
    "Количество заездов: ... \n"
   ]
  },
  {
   "cell_type": "code",
   "execution_count": 53,
   "metadata": {},
   "outputs": [
    {
     "name": "stdout",
     "output_type": "stream",
     "text": [
      "Количество заездов: 317104\n"
     ]
    }
   ],
   "source": [
    "total_visits = data.shape[0]\n",
    "print(f'Количество заездов: {total_visits}')"
   ]
  },
  {
   "cell_type": "markdown",
   "metadata": {},
   "source": [
    "**Задача 2**. Найдите количество охваченных исследованием АЗС. Сохраните его в переменной total_stations, результат на экран выведите так:\n",
    "\n",
    "Количество АЗС: ... "
   ]
  },
  {
   "cell_type": "code",
   "execution_count": 55,
   "metadata": {},
   "outputs": [
    {
     "name": "stdout",
     "output_type": "stream",
     "text": [
      "Количество АЗС: 45\n"
     ]
    }
   ],
   "source": [
    "total_stations = len(data['name'].unique())\n",
    "print(f'Количество АЗС: {total_stations}')"
   ]
  },
  {
   "cell_type": "markdown",
   "metadata": {},
   "source": [
    "**Задача 3**\n",
    "\n",
    "Выведите на экран дату и время первого и последнего заезда на АЗС через пробел. Без объявления новых переменных, примените методы **min()** и **max()** к значениям столбца **data['date_time']** в аргументе функции **print()**.\n",
    "Вывод должен выглядеть так: 20180402T000008 20180408T235957.\n"
   ]
  },
  {
   "cell_type": "code",
   "execution_count": 57,
   "metadata": {},
   "outputs": [
    {
     "name": "stdout",
     "output_type": "stream",
     "text": [
      "20180402T000008 20180408T235957\n"
     ]
    }
   ],
   "source": [
    "print(data['date_time'].min(), data['date_time'].max())"
   ]
  },
  {
   "cell_type": "markdown",
   "metadata": {},
   "source": [
    "**Задача 4**\n",
    "Данные собраны за 7 дней — сохраните это значение в переменной **total_days**.\n",
    "Найдите среднее число заездов на одну АЗС за 1 день. Сохраните результат вычислений в переменной **station_visits_per_day** и выведите её на экран в следующем виде:\n",
    "\n",
    "Количество заездов на АЗС в сутки: ... \n"
   ]
  },
  {
   "cell_type": "code",
   "execution_count": 59,
   "metadata": {},
   "outputs": [
    {
     "name": "stdout",
     "output_type": "stream",
     "text": [
      "Количество заездов на АЗС в сутки: 45300.57142857143\n"
     ]
    }
   ],
   "source": [
    "total_days = 7\n",
    "visits_day = total_visits / total_days\n",
    "print(f'Количество заездов на АЗС в сутки: {visits_day}')"
   ]
  },
  {
   "cell_type": "markdown",
   "metadata": {},
   "source": [
    "**Задача 5**\n",
    "\n",
    "Проверьте распределение числа заездов по сетям АЗС. Распечатайте топ-10 сетей с наибольшим числом заездов, используя метод **sort_values**. В каждой строке должно быть название сети и число заездов.\n",
    "Результат выведите в функции print().\n"
   ]
  },
  {
   "cell_type": "code",
   "execution_count": 61,
   "metadata": {},
   "outputs": [
    {
     "name": "stdout",
     "output_type": "stream",
     "text": [
      "name\n",
      "Календула      85648\n",
      "Василек        79006\n",
      "Георгина       34356\n",
      "Немезия        20138\n",
      "Колокольчик    18835\n",
      "Мальва         17386\n",
      "Гейхера        14125\n",
      "Доротеантус     6312\n",
      "Нарцисс         3640\n",
      "Амарант         3221\n",
      "Name: date_time, dtype: int64\n"
     ]
    }
   ],
   "source": [
    "networks = data.groupby('name').count()\n",
    "sorted_networks = networks.sort_values(by='date_time', ascending=False)\n",
    "top_10_networks = sorted_networks['date_time'].head(10)\n",
    "print(top_10_networks)"
   ]
  },
  {
   "cell_type": "markdown",
   "metadata": {},
   "source": [
    "# Гистограмма\n",
    "На первый взгляд, данные выглядят корректно.\n",
    "\n",
    "Однако есть гипотеза, что продолжительность заправки посчитана неверно: в некоторых сетях это время выглядит неправдоподобно маленьким. Напомним, вы считали среднее арифметическое. Оно не означает, что столько времени заправляются все водители: кто-то больше, кто-то меньше. Как представить себе значения, из которых рассчитано среднее, если в таблице тысячи строк? Не просматривать же каждую. Для ответа на этот вопрос строят гистограмму.\n",
    "\n",
    "Гистограмма — это график, который показывает, как часто в наборе данных встречается то или иное значение. Гистограмма объединяет числовые значения по диапазонам, то есть считает частоту значений в пределах каждого интервала. \n",
    "\n",
    "\n",
    "В Pandas гистограмму строит специальный метод **hist()** (от англ. histogram — «гистограмма»). Применять его можно к списку или к столбцу датафрейма: во втором случае название столбца передаётся в параметре. Метод **hist()** находит в наборе чисел минимальное и максимальное значения, а полученный диапазон делит на области или корзины. Затем **hist()** считает, сколько значений попало в каждую корзину, и отображает это на графике.\n",
    "Параметр **bins** (англ. «корзины, вёдра») определяет, на сколько областей делить диапазон данных. По умолчанию таких «корзин» 10.\n",
    "\n",
    "Построим гистограмму, отображающую количество шаров в боулинге. Допустим, у нас по одному шару каждого номера от 6 до 16:\n"
   ]
  },
  {
   "cell_type": "code",
   "execution_count": 34,
   "metadata": {},
   "outputs": [
    {
     "data": {
      "text/plain": [
       "<matplotlib.axes._subplots.AxesSubplot at 0x1fef053e788>"
      ]
     },
     "execution_count": 34,
     "metadata": {},
     "output_type": "execute_result"
    },
    {
     "data": {
      "image/png": "[encoded data removed]",
      "text/plain": [
       "<Figure size 432x288 with 1 Axes>"
      ]
     },
     "metadata": {
      "needs_background": "light"
     },
     "output_type": "display_data"
    }
   ],
   "source": [
    "# строим гистограмму\n",
    "pd.Series([6, 7, 8, 9, 10, 11, 12, 13, 14, 15, 16]).hist()  \n"
   ]
  },
  {
   "cell_type": "markdown",
   "metadata": {},
   "source": [
    "Хотя на каждый номер приходится 1 шар, гистограмма не похожа на прямоугольник. Это потому, что по умолчанию параметр **bins=10**, а шаров 11. Передадим соответствующее число корзин и взглянем на полученный график:"
   ]
  },
  {
   "cell_type": "code",
   "execution_count": 35,
   "metadata": {},
   "outputs": [
    {
     "data": {
      "text/plain": [
       "<matplotlib.axes._subplots.AxesSubplot at 0x1fef0572a88>"
      ]
     },
     "execution_count": 35,
     "metadata": {},
     "output_type": "execute_result"
    },
    {
     "data": {
      "image/png": "[encoded data removed]",
      "text/plain": [
       "<Figure size 432x288 with 1 Axes>"
      ]
     },
     "metadata": {
      "needs_background": "light"
     },
     "output_type": "display_data"
    }
   ],
   "source": [
    "pd.Series([6, 7, 8, 9, 10, 11, 12, 13, 14, 15, 16]).hist(bins=11) "
   ]
  },
  {
   "cell_type": "markdown",
   "metadata": {},
   "source": [
    "Теперь гистограмма соответствует действительности. Что если количество шаров с разными номерами изменится? Скажем, будет два шара под номером 8 и ни одной «семёрки»?"
   ]
  },
  {
   "cell_type": "code",
   "execution_count": 36,
   "metadata": {},
   "outputs": [
    {
     "data": {
      "text/plain": [
       "<matplotlib.axes._subplots.AxesSubplot at 0x1fef0437e08>"
      ]
     },
     "execution_count": 36,
     "metadata": {},
     "output_type": "execute_result"
    },
    {
     "data": {
      "image/png": "[encoded data removed]",
      "text/plain": [
       "<Figure size 432x288 with 1 Axes>"
      ]
     },
     "metadata": {
      "needs_background": "light"
     },
     "output_type": "display_data"
    }
   ],
   "source": [
    "pd.Series([6, 8, 8, 9, 10, 11, 12, 13, 14, 15, 16]).hist(bins=11) "
   ]
  },
  {
   "cell_type": "markdown",
   "metadata": {},
   "source": [
    "Провал там, где должно быть значение 7. Частота появления восьмёрки увеличилась вдвое. График выглядит правдоподобно.\n",
    "Что произойдёт, если в данных шестнадцатый шар вдруг станет шаром под номером 100, а пятнадцатый пропадёт вовсе?"
   ]
  },
  {
   "cell_type": "code",
   "execution_count": 37,
   "metadata": {},
   "outputs": [
    {
     "data": {
      "text/plain": [
       "<matplotlib.axes._subplots.AxesSubplot at 0x1feefd4a148>"
      ]
     },
     "execution_count": 37,
     "metadata": {},
     "output_type": "execute_result"
    },
    {
     "data": {
      "image/png": "[encoded data removed]",
      "text/plain": [
       "<Figure size 432x288 with 1 Axes>"
      ]
     },
     "metadata": {
      "needs_background": "light"
     },
     "output_type": "display_data"
    }
   ],
   "source": [
    "pd.Series([6, 8, 8, 9, 10, 11, 12, 13, 14, 100]).hist() # убрали параметр bins, так как шаров стало 10 "
   ]
  },
  {
   "cell_type": "markdown",
   "metadata": {},
   "source": [
    "9 шаров со значениями в диапазоне от 5 до 15 и 1 шар с номером от 90 до 100. При таком изображении не видно тонких особенностей распределения значений в диапазоне от 5 до 15 — того, что в нём нет семёрки, а восьмёрок пара.\n",
    "Вернём детальность, увеличив число корзин до 100.\n"
   ]
  },
  {
   "cell_type": "code",
   "execution_count": 38,
   "metadata": {},
   "outputs": [
    {
     "data": {
      "text/plain": [
       "<matplotlib.axes._subplots.AxesSubplot at 0x1feefd66ec8>"
      ]
     },
     "execution_count": 38,
     "metadata": {},
     "output_type": "execute_result"
    },
    {
     "data": {
      "image/png": "[encoded data removed]",
      "text/plain": [
       "<Figure size 432x288 with 1 Axes>"
      ]
     },
     "metadata": {
      "needs_background": "light"
     },
     "output_type": "display_data"
    }
   ],
   "source": [
    "pd.Series([6, 8, 8, 9, 10, 11, 12, 13, 14, 100]).hist(bins=100) "
   ]
  },
  {
   "cell_type": "markdown",
   "metadata": {},
   "source": [
    "На этом графике видно, что восьмёрка удвоена, а семёрка не встречается вовсе. Увеличив число корзин, мы вернули детализацию, однако гистограмма всё ещё не наглядна. 100 слишком похоже на выброс — значение, сильно отличающееся от других элементов в наборе данных.\n",
    "Изменим масштаб вручную, указав диапазон значений, по которым следует строить график. Границы интересующего нас интервала указывают в параметре range (англ. «диапазон»): **range=(min_value, max_value)**. Нам нужна область от 6 до 14:\n"
   ]
  },
  {
   "cell_type": "code",
   "execution_count": 39,
   "metadata": {},
   "outputs": [
    {
     "data": {
      "text/plain": [
       "<matplotlib.axes._subplots.AxesSubplot at 0x1feefd66788>"
      ]
     },
     "execution_count": 39,
     "metadata": {},
     "output_type": "execute_result"
    },
    {
     "data": {
      "image/png": "[encoded data removed]",
      "text/plain": [
       "<Figure size 432x288 with 1 Axes>"
      ]
     },
     "metadata": {
      "needs_background": "light"
     },
     "output_type": "display_data"
    }
   ],
   "source": [
    "pd.Series([6, 8, 8, 9, 10, 11, 12, 13, 14, 100]).hist(range = (6, 14)) "
   ]
  },
  {
   "cell_type": "markdown",
   "metadata": {},
   "source": [
    "Гистограмма даёт представление о структуре данных. В частности, по ней можно понять, откуда взялось такое среднее арифметическое.\n",
    "Вот 2 ряда по 10 чисел: их гистограммы очень разные, а среднее у обеих 5."
   ]
  },
  {
   "cell_type": "code",
   "execution_count": 40,
   "metadata": {},
   "outputs": [
    {
     "data": {
      "text/plain": [
       "<matplotlib.axes._subplots.AxesSubplot at 0x1fef01eff88>"
      ]
     },
     "execution_count": 40,
     "metadata": {},
     "output_type": "execute_result"
    },
    {
     "data": {
      "image/png": "[encoded data removed]",
      "text/plain": [
       "<Figure size 432x288 with 1 Axes>"
      ]
     },
     "metadata": {
      "needs_background": "light"
     },
     "output_type": "display_data"
    }
   ],
   "source": [
    "pd.Series([0, 0, 0, 0, 0, 10, 10, 10, 10, 10]).hist(range=(0, 10)) "
   ]
  },
  {
   "cell_type": "code",
   "execution_count": 41,
   "metadata": {},
   "outputs": [
    {
     "data": {
      "text/plain": [
       "<matplotlib.axes._subplots.AxesSubplot at 0x1feeef6b988>"
      ]
     },
     "execution_count": 41,
     "metadata": {},
     "output_type": "execute_result"
    },
    {
     "data": {
      "image/png": "[encoded data removed]",
      "text/plain": [
       "<Figure size 432x288 with 1 Axes>"
      ]
     },
     "metadata": {
      "needs_background": "light"
     },
     "output_type": "display_data"
    }
   ],
   "source": [
    "pd.Series([4, 5, 5, 5, 5, 5, 5, 5, 5, 5, 6]).hist(range=(0, 10)) "
   ]
  },
  {
   "cell_type": "markdown",
   "metadata": {},
   "source": [
    "Если бы мы смотрели только на среднее значение этих наборов данных, то сказали бы, что они очень похожи. Однако описывающие их гистограммы дают понять, что это два очень разных явления.\n",
    "Пора применить гистограмму к реальной задаче. Напомним, что средняя продолжительность заправки выглядит неправдоподобно малой.\n",
    "\n",
    "**Задача 1**.\n",
    "Выведите гистограмму значений времени, проведённого на АЗС (столбец data['time_spent'])."
   ]
  },
  {
   "cell_type": "code",
   "execution_count": 63,
   "metadata": {},
   "outputs": [
    {
     "data": {
      "text/plain": [
       "<Axes: >"
      ]
     },
     "execution_count": 63,
     "metadata": {},
     "output_type": "execute_result"
    },
    {
     "data": {
      "image/png": "[encoded data removed]",
      "text/plain": [
       "<Figure size 640x480 with 1 Axes>"
      ]
     },
     "metadata": {},
     "output_type": "display_data"
    }
   ],
   "source": [
    "data['time_spent'].hist()"
   ]
  },
  {
   "cell_type": "markdown",
   "metadata": {},
   "source": [
    "**Задача 2**\n",
    "Выведите гистограмму значений времени, проведённого на АЗС, с увеличенным до 100 числом столбцов"
   ]
  },
  {
   "cell_type": "code",
   "execution_count": 65,
   "metadata": {},
   "outputs": [
    {
     "data": {
      "text/plain": [
       "<Axes: >"
      ]
     },
     "execution_count": 65,
     "metadata": {},
     "output_type": "execute_result"
    },
    {
     "data": {
      "image/png": "[encoded data removed]",
      "text/plain": [
       "<Figure size 640x480 with 1 Axes>"
      ]
     },
     "metadata": {},
     "output_type": "display_data"
    }
   ],
   "source": [
    "data['time_spent'].hist(bins=100)"
   ]
  },
  {
   "cell_type": "markdown",
   "metadata": {},
   "source": [
    "**Задача 3**\n",
    "Выведите гистограмму значений времени, проведённого на АЗС, с увеличенным до 100 числом столбцов и диапазоном значений от 0 до 1500."
   ]
  },
  {
   "cell_type": "code",
   "execution_count": 67,
   "metadata": {},
   "outputs": [
    {
     "data": {
      "text/plain": [
       "<Axes: >"
      ]
     },
     "execution_count": 67,
     "metadata": {},
     "output_type": "execute_result"
    },
    {
     "data": {
      "image/png": "[encoded data removed]",
      "text/plain": [
       "<Figure size 640x480 with 1 Axes>"
      ]
     },
     "metadata": {},
     "output_type": "display_data"
    }
   ],
   "source": [
    "data['time_spent'].hist(bins=100, range=(0,1500))\n"
   ]
  },
  {
   "cell_type": "markdown",
   "metadata": {},
   "source": [
    "Ожидаемое распределение времени заправки — гистограмма с длинным хвостом на высоких значениях и падением в ноль слева от пика, не доходя до нулевого времени заправки. Однако на графике виден высокий пик около 0. Скорее всего, он имеет иную природу. Это не заправки, а ошибки расчётов, проезды сквозь АЗС или что-то ещё."
   ]
  }
 ],
 "metadata": {
  "kernelspec": {
   "display_name": "Python 3 (ipykernel)",
   "language": "python",
   "name": "python3"
  },
  "language_info": {
   "codemirror_mode": {
    "name": "ipython",
    "version": 3
   },
   "file_extension": ".py",
   "mimetype": "text/x-python",
   "name": "python",
   "nbconvert_exporter": "python",
   "pygments_lexer": "ipython3",
   "version": "3.12.4"
  }
 },
 "nbformat": 4,
 "nbformat_minor": 4
}
